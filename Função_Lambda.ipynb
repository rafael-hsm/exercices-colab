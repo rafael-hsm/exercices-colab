{
  "nbformat": 4,
  "nbformat_minor": 0,
  "metadata": {
    "colab": {
      "name": "Função - Lambda.ipynb",
      "provenance": [],
      "collapsed_sections": [],
      "authorship_tag": "ABX9TyND9FDbypMjqZIJ21Ekyp/F",
      "include_colab_link": true
    },
    "kernelspec": {
      "name": "python3",
      "display_name": "Python 3"
    },
    "language_info": {
      "name": "python"
    }
  },
  "cells": [
    {
      "cell_type": "markdown",
      "metadata": {
        "id": "view-in-github",
        "colab_type": "text"
      },
      "source": [
        "<a href=\"https://colab.research.google.com/github/rafael-hsm/exercices-colab/blob/main/Fun%C3%A7%C3%A3o_Lambda.ipynb\" target=\"_parent\"><img src=\"https://colab.research.google.com/assets/colab-badge.svg\" alt=\"Open In Colab\"/></a>"
      ]
    },
    {
      "cell_type": "markdown",
      "metadata": {
        "id": "Pv_EOJOWq0-Q"
      },
      "source": [
        "# Funções\n",
        "\n",
        "* Antes de falarmos da função lambda, vamos revisar o que é uma função:\n",
        "\n",
        ">Funções são blocos de código que realizam determinadas tarefas que normalmente precisam ser executadas diversas vezes dentro de uma aplicação. \n",
        "\n",
        "* Vamos supor que queremos somar dois números, como faríamos?\n",
        "\n",
        "\n",
        "```\n",
        "def somar_2_numeros(a, b):\n",
        "  a = int(input('Digite um número: '))\n",
        "  b = int(input('Digite outro número: '))\n",
        "  return a + b\n",
        "\n",
        "somar_2_numeros(a,b)\n",
        "\n",
        "```"
      ]
    },
    {
      "cell_type": "code",
      "metadata": {
        "colab": {
          "base_uri": "https://localhost:8080/"
        },
        "id": "6Rjkenswt8WW",
        "outputId": "1622fd5b-95f6-416e-f6e7-f7d7be99a620"
      },
      "source": [
        "def somar_2_numeros(a, b):\n",
        "  return a + b\n",
        "\n",
        "somar_2_numeros(235, 1000)"
      ],
      "execution_count": null,
      "outputs": [
        {
          "output_type": "execute_result",
          "data": {
            "text/plain": [
              "1235"
            ]
          },
          "metadata": {},
          "execution_count": 9
        }
      ]
    },
    {
      "cell_type": "markdown",
      "metadata": {
        "id": "zLjGvQxHvOkx"
      },
      "source": [
        "\n",
        "## Função lambda\n",
        "\n",
        "## Conceito\n",
        "\n",
        "* Uma expressão lambda permite escrever funções anônimas/sem-nome usando apenas uma linha de código. Também de chamada de função anônima.\n",
        "\n",
        "* Exemplo:      \n",
        "\n",
        "\n",
        "```\n",
        "a = int(input('Digite um número: )\n",
        "b = int(input('Digite outro número: )\n",
        "soma = lambda a, b: a + b\n",
        "print(soma(a, b)\n",
        "```\n",
        "\n",
        "\n",
        "\n"
      ]
    },
    {
      "cell_type": "code",
      "metadata": {
        "colab": {
          "base_uri": "https://localhost:8080/"
        },
        "id": "LhJVf-BKwSv6",
        "outputId": "f114c9e5-9602-4164-dc11-0305bd26ca84"
      },
      "source": [
        "a = int(input('Digite um número: '))\n",
        "b = int(input('Digite outro número: '))\n",
        "soma = lambda a, b: a + b\n",
        "print(soma(a, b))"
      ],
      "execution_count": null,
      "outputs": [
        {
          "output_type": "stream",
          "name": "stdout",
          "text": [
            "Digite um número: 6\n",
            "Digite outro número: 4\n",
            "10\n"
          ]
        }
      ]
    },
    {
      "cell_type": "markdown",
      "metadata": {
        "id": "nYlFqK50sHkJ"
      },
      "source": [
        "# Referências\n",
        "\n",
        "* https://wiki.python.org.br/PythonFuncional\n",
        "\n",
        "* https://www.devmedia.com.br/funcoes-em-python/37340"
      ]
    }
  ]
}