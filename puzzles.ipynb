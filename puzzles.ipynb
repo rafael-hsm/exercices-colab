{
  "nbformat": 4,
  "nbformat_minor": 0,
  "metadata": {
    "colab": {
      "provenance": [],
      "authorship_tag": "ABX9TyPp2EJbByAD/XhAFR8AKPLc",
      "include_colab_link": true
    },
    "kernelspec": {
      "name": "python3",
      "display_name": "Python 3"
    },
    "language_info": {
      "name": "python"
    }
  },
  "cells": [
    {
      "cell_type": "markdown",
      "metadata": {
        "id": "view-in-github",
        "colab_type": "text"
      },
      "source": [
        "<a href=\"https://colab.research.google.com/github/rafael-hsm/python-exercices/blob/main/puzzles.ipynb\" target=\"_parent\"><img src=\"https://colab.research.google.com/assets/colab-badge.svg\" alt=\"Open In Colab\"/></a>"
      ]
    },
    {
      "cell_type": "markdown",
      "source": [
        "# Puzzles Training"
      ],
      "metadata": {
        "id": "IYoTBMnVmnm0"
      }
    },
    {
      "cell_type": "markdown",
      "source": [
        "1. Solve this code about print output"
      ],
      "metadata": {
        "id": "UhWy2Cz6mr7q"
      }
    },
    {
      "cell_type": "code",
      "execution_count": null,
      "metadata": {
        "id": "mqQ2FnlJmmAa"
      },
      "outputs": [],
      "source": [
        "print('''\\\n",
        "A\n",
        "B\n",
        "C\n",
        "''')"
      ]
    },
    {
      "cell_type": "markdown",
      "source": [
        "2. Now we got working with join and list. What is the return of this command?"
      ],
      "metadata": {
        "id": "DyafRX3lmmue"
      }
    },
    {
      "cell_type": "code",
      "source": [
        "string = 'ppy!'\n",
        "fruit = 'a'.join(list(string))\n",
        "\n",
        "print(fruit)"
      ],
      "metadata": {
        "id": "5e-EyRx0n2vM"
      },
      "execution_count": null,
      "outputs": []
    }
  ]
}